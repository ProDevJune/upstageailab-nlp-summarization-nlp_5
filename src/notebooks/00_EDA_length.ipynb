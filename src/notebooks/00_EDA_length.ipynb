{
 "cells": [
  {
   "cell_type": "code",
<<<<<<< HEAD
   "execution_count": 1,
   "id": "9857bb68",
   "metadata": {},
   "outputs": [
    {
     "name": "stderr",
     "output_type": "stream",
     "text": [
      "/opt/conda/lib/python3.10/site-packages/huggingface_hub/file_download.py:943: FutureWarning: `resume_download` is deprecated and will be removed in version 1.0.0. Downloads always resume when possible. If you want to force a new download, use `force_download=True`.\n",
      "  warnings.warn(\n"
     ]
    }
   ],
   "source": [
    "from transformers import AutoTokenizer\n",
    "tokenizer = AutoTokenizer.from_pretrained(\"digit82/kobart-summarization\")"
   ]
  },
  {
   "cell_type": "code",
   "execution_count": null,
   "id": "6c29953a",
   "metadata": {},
   "outputs": [
    {
     "data": {
      "text/plain": [
       "['▁열', '분', '▁.', '▁10', '▁분']"
      ]
     },
     "execution_count": 5,
     "metadata": {},
     "output_type": "execute_result"
    }
   ],
   "source": [
    "tokenizer.tokenize(\"열 분 . 10 분\")"
   ]
  },
  {
   "cell_type": "code",
   "execution_count": null,
   "id": "9163059b",
   "metadata": {},
   "outputs": [],
   "source": [
    "train_df = pd.read_csv()\n",
    "\n",
    "regex = \"*열 분*\"\n",
    "train_df['dialogue'] "
   ]
  },
  {
   "cell_type": "code",
   "execution_count": null,
   "id": "de6b7349",
   "metadata": {},
   "outputs": [],
   "source": [
    "\n",
    "\n"
   ]
  }
 ],
 "metadata": {
  "kernelspec": {
   "display_name": "base",
   "language": "python",
   "name": "python3"
  },
  "language_info": {
   "codemirror_mode": {
    "name": "ipython",
    "version": 3
   },
   "file_extension": ".py",
   "mimetype": "text/x-python",
   "name": "python",
   "nbconvert_exporter": "python",
   "pygments_lexer": "ipython3",
   "version": "3.10.13"
=======
   "execution_count": null,
   "id": "9857bb68",
   "metadata": {},
   "outputs": [],
   "source": []
  }
 ],
 "metadata": {
  "language_info": {
   "name": "python"
>>>>>>> b573905e00820e9a852d627bdb4767b697c5b54f
  }
 },
 "nbformat": 4,
 "nbformat_minor": 5
}
